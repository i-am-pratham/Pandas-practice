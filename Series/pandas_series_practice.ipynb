{
 "cells": [
  {
   "cell_type": "markdown",
   "id": "4f5da751",
   "metadata": {},
   "source": [
    "# 🐼 Pandas Series Practice Notebook\n",
    "\n",
    "This notebook contains **step-by-step exercises** on Pandas Series.  \n",
    "Solve them in order (easy → advanced) to master the concept before moving to DataFrames 🚀.\n"
   ]
  },
  {
   "cell_type": "markdown",
   "id": "ff121cd4",
   "metadata": {},
   "source": [
    "### Exercise 1\n",
    "Create a Series of marks of 5 students with custom names as index."
   ]
  },
  {
   "cell_type": "code",
   "execution_count": null,
   "id": "ed102a23",
   "metadata": {},
   "outputs": [],
   "source": [
    "# Your solution here\n"
   ]
  },
  {
   "cell_type": "markdown",
   "id": "cd006dec",
   "metadata": {},
   "source": [
    "### Exercise 2\n",
    "Create a Series from a dictionary: {'Math': 90, 'Science': 80, 'English': 85}."
   ]
  },
  {
   "cell_type": "code",
   "execution_count": null,
   "id": "09b59cb5",
   "metadata": {},
   "outputs": [],
   "source": [
    "# Your solution here\n"
   ]
  },
  {
   "cell_type": "markdown",
   "id": "4b4efd31",
   "metadata": {},
   "source": [
    "### Exercise 3\n",
    "Create a Series of 5 random integers using numpy.random.randint."
   ]
  },
  {
   "cell_type": "code",
   "execution_count": null,
   "id": "d27252ea",
   "metadata": {},
   "outputs": [],
   "source": [
    "# Your solution here\n"
   ]
  },
  {
   "cell_type": "markdown",
   "id": "8a4d5355",
   "metadata": {},
   "source": [
    "### Exercise 4\n",
    "Access 2nd and 4th student marks using both label and position."
   ]
  },
  {
   "cell_type": "code",
   "execution_count": null,
   "id": "8a915aff",
   "metadata": {},
   "outputs": [],
   "source": [
    "# Your solution here\n"
   ]
  },
  {
   "cell_type": "markdown",
   "id": "dc3890a9",
   "metadata": {},
   "source": [
    "### Exercise 5\n",
    "Slice the first 3 elements of a Series."
   ]
  },
  {
   "cell_type": "code",
   "execution_count": null,
   "id": "1c7b1310",
   "metadata": {},
   "outputs": [],
   "source": [
    "# Your solution here\n"
   ]
  },
  {
   "cell_type": "markdown",
   "id": "f1dda725",
   "metadata": {},
   "source": [
    "### Exercise 6\n",
    "Create a Series of fruit prices (apple, banana, grapes, mango). Increase all prices by 10%."
   ]
  },
  {
   "cell_type": "code",
   "execution_count": null,
   "id": "2048c92d",
   "metadata": {},
   "outputs": [],
   "source": [
    "# Your solution here\n"
   ]
  },
  {
   "cell_type": "markdown",
   "id": "07523263",
   "metadata": {},
   "source": [
    "### Exercise 7\n",
    "Create a Series of numbers and add 5 to all elements."
   ]
  },
  {
   "cell_type": "code",
   "execution_count": null,
   "id": "ca30ab4f",
   "metadata": {},
   "outputs": [],
   "source": [
    "# Your solution here\n"
   ]
  },
  {
   "cell_type": "markdown",
   "id": "a03c30af",
   "metadata": {},
   "source": [
    "### Exercise 8\n",
    "Create another Series and perform addition with the first one."
   ]
  },
  {
   "cell_type": "code",
   "execution_count": null,
   "id": "12ea3a32",
   "metadata": {},
   "outputs": [],
   "source": [
    "# Your solution here\n"
   ]
  },
  {
   "cell_type": "markdown",
   "id": "12bce0db",
   "metadata": {},
   "source": [
    "### Exercise 9\n",
    "Filter values greater than the mean of the Series."
   ]
  },
  {
   "cell_type": "code",
   "execution_count": null,
   "id": "00e645a0",
   "metadata": {},
   "outputs": [],
   "source": [
    "# Your solution here\n"
   ]
  },
  {
   "cell_type": "markdown",
   "id": "aed81ca9",
   "metadata": {},
   "source": [
    "### Exercise 10\n",
    "From a marks Series, find students who scored more than 75."
   ]
  },
  {
   "cell_type": "code",
   "execution_count": null,
   "id": "b0b0b174",
   "metadata": {},
   "outputs": [],
   "source": [
    "# Your solution here\n"
   ]
  },
  {
   "cell_type": "markdown",
   "id": "688d9a94",
   "metadata": {},
   "source": [
    "### Exercise 11\n",
    "Find sum, mean, min, max of a Series of numbers."
   ]
  },
  {
   "cell_type": "code",
   "execution_count": null,
   "id": "a848ac7a",
   "metadata": {},
   "outputs": [],
   "source": [
    "# Your solution here\n"
   ]
  },
  {
   "cell_type": "markdown",
   "id": "bcd15f13",
   "metadata": {},
   "source": [
    "### Exercise 12\n",
    "Sort a Series by values and by index."
   ]
  },
  {
   "cell_type": "code",
   "execution_count": null,
   "id": "2e4377f7",
   "metadata": {},
   "outputs": [],
   "source": [
    "# Your solution here\n"
   ]
  },
  {
   "cell_type": "markdown",
   "id": "135d07eb",
   "metadata": {},
   "source": [
    "### Exercise 13\n",
    "Create a Series with some NaN values. Fill missing values with the mean."
   ]
  },
  {
   "cell_type": "code",
   "execution_count": null,
   "id": "49ec022c",
   "metadata": {},
   "outputs": [],
   "source": [
    "# Your solution here\n"
   ]
  },
  {
   "cell_type": "markdown",
   "id": "76a1efc2",
   "metadata": {},
   "source": [
    "### Exercise 14\n",
    "Drop NaN values from the Series."
   ]
  },
  {
   "cell_type": "code",
   "execution_count": null,
   "id": "225f3e46",
   "metadata": {},
   "outputs": [],
   "source": [
    "# Your solution here\n"
   ]
  },
  {
   "cell_type": "markdown",
   "id": "7289450f",
   "metadata": {},
   "source": [
    "### Exercise 15\n",
    "Create a Series of daily temperatures for 7 days. Find the hottest and coldest day."
   ]
  },
  {
   "cell_type": "code",
   "execution_count": null,
   "id": "3e6d6cd3",
   "metadata": {},
   "outputs": [],
   "source": [
    "# Your solution here\n"
   ]
  },
  {
   "cell_type": "markdown",
   "id": "6c842f70",
   "metadata": {},
   "source": [
    "### Exercise 16\n",
    "Create two Series: sales in January and sales in February for 4 shops. Add them together to find total sales."
   ]
  },
  {
   "cell_type": "code",
   "execution_count": null,
   "id": "c3680b8e",
   "metadata": {},
   "outputs": [],
   "source": [
    "# Your solution here\n"
   ]
  },
  {
   "cell_type": "markdown",
   "id": "a190b3a9",
   "metadata": {},
   "source": [
    "### Exercise 17\n",
    "Create a Series of exam marks for 5 students. Normalize marks (scale between 0 and 1)."
   ]
  },
  {
   "cell_type": "code",
   "execution_count": null,
   "id": "6e9f543e",
   "metadata": {},
   "outputs": [],
   "source": [
    "# Your solution here\n"
   ]
  }
 ],
 "metadata": {},
 "nbformat": 4,
 "nbformat_minor": 5
}
