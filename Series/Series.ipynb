{
 "cells": [
  {
   "cell_type": "markdown",
   "id": "25ec6fc3",
   "metadata": {},
   "source": [
    "## 📘 Pandas Series — Complete Notes\n",
    "### 🔹 1. What is a Series?\n",
    "\n",
    "A Series is a **one-dimensional labeled array.**\n",
    "\n",
    "It can hold data of any type: integers, strings, floats, Python objects, etc.\n",
    "\n",
    "It is like a **column** of exel or any database. and elements are place **vertically (like column).**\n",
    "\n",
    "Think of it like a **NumPy array with labels (index)** or like a **single column of a DataFrame.**"
   ]
  },
  {
   "cell_type": "markdown",
   "id": "28e79501",
   "metadata": {},
   "source": []
  },
  {
   "cell_type": "markdown",
   "id": "0089ee2a",
   "metadata": {},
   "source": [
    "### 2. Creating a Series"
   ]
  },
  {
   "cell_type": "code",
   "execution_count": 2,
   "id": "85d00bee",
   "metadata": {},
   "outputs": [],
   "source": [
    "import numpy as np\n",
    "import pandas as pd"
   ]
  },
  {
   "cell_type": "code",
   "execution_count": 3,
   "id": "12596c8f",
   "metadata": {},
   "outputs": [
    {
     "name": "stdout",
     "output_type": "stream",
     "text": [
      "0    10\n",
      "1    20\n",
      "2    30\n",
      "3    40\n",
      "4    50\n",
      "dtype: int64\n"
     ]
    }
   ],
   "source": [
    "# From a Python List\n",
    "s1= pd.Series([10,20,30,40,50])\n",
    "print(s1)"
   ]
  },
  {
   "cell_type": "code",
   "execution_count": 4,
   "id": "41958bf2",
   "metadata": {},
   "outputs": [
    {
     "name": "stdout",
     "output_type": "stream",
     "text": [
      "Student1    10\n",
      "Student2    20\n",
      "Student3    30\n",
      "Student4    40\n",
      "dtype: int64\n"
     ]
    }
   ],
   "source": [
    "# With custom index\n",
    "s2=pd.Series([10,20,30,40],index=['Student1','Student2','Student3','Student4'])\n",
    "print(s2)"
   ]
  },
  {
   "cell_type": "code",
   "execution_count": 14,
   "id": "db6f4213",
   "metadata": {},
   "outputs": [
    {
     "name": "stdout",
     "output_type": "stream",
     "text": [
      "apple     100\n",
      "banana     60\n",
      "orange    120\n",
      "dtype: int64\n"
     ]
    }
   ],
   "source": [
    "# From a Dictionary\n",
    "# Dictionary keys become index, values become data.\n",
    "\n",
    "s3=pd.Series({\"apple\":100, \"banana\":60, \"orange\": 120})\n",
    "print(s3)"
   ]
  },
  {
   "cell_type": "code",
   "execution_count": 16,
   "id": "6d257999",
   "metadata": {},
   "outputs": [
    {
     "name": "stdout",
     "output_type": "stream",
     "text": [
      "a    1\n",
      "b    2\n",
      "c    3\n",
      "d    4\n",
      "e    5\n",
      "dtype: int64\n"
     ]
    }
   ],
   "source": [
    "# From NumPy Array\n",
    "\n",
    "arr=np.array([1,2,3,4,5])\n",
    "s4=pd.Series(arr, index=['a','b','c','d','e'])\n",
    "print(s4)"
   ]
  },
  {
   "cell_type": "code",
   "execution_count": 18,
   "id": "f7a13195",
   "metadata": {},
   "outputs": [
    {
     "name": "stdout",
     "output_type": "stream",
     "text": [
      "a    7\n",
      "b    7\n",
      "c    7\n",
      "d    7\n",
      "e    7\n",
      "dtype: int64\n"
     ]
    }
   ],
   "source": [
    "# Scalar Value\n",
    "s5= pd.Series(7, index=['a','b','c','d','e'])\n",
    "print(s5)"
   ]
  },
  {
   "cell_type": "markdown",
   "id": "579b8f96",
   "metadata": {},
   "source": [
    "### 🔹 3. Accessing Elements"
   ]
  },
  {
   "cell_type": "code",
   "execution_count": 6,
   "id": "de64b23b",
   "metadata": {},
   "outputs": [
    {
     "name": "stdout",
     "output_type": "stream",
     "text": [
      "a    100\n",
      "b    200\n",
      "c    300\n",
      "d    400\n",
      "dtype: int64\n"
     ]
    }
   ],
   "source": [
    "s = pd.Series([100, 200, 300, 400], index=['a','b','c','d'])\n",
    "print(s)"
   ]
  },
  {
   "cell_type": "code",
   "execution_count": null,
   "id": "c1828809",
   "metadata": {},
   "outputs": [
    {
     "name": "stdout",
     "output_type": "stream",
     "text": [
      "100\n",
      "a    100\n",
      "d    400\n",
      "dtype: int64\n",
      "100\n",
      "b    200\n",
      "d    400\n",
      "dtype: int64\n"
     ]
    },
    {
     "name": "stderr",
     "output_type": "stream",
     "text": [
      "C:\\Users\\Admin\\AppData\\Local\\Temp\\ipykernel_14552\\47212983.py:4: FutureWarning: Series.__getitem__ treating keys as positions is deprecated. In a future version, integer keys will always be treated as labels (consistent with DataFrame behavior). To access a value by position, use `ser.iloc[pos]`\n",
      "  print(s[0])\n",
      "C:\\Users\\Admin\\AppData\\Local\\Temp\\ipykernel_14552\\47212983.py:5: FutureWarning: Series.__getitem__ treating keys as positions is deprecated. In a future version, integer keys will always be treated as labels (consistent with DataFrame behavior). To access a value by position, use `ser.iloc[pos]`\n",
      "  print(s[[1,3]])\n"
     ]
    }
   ],
   "source": [
    "# (a) By Index Label\n",
    "print(s['a'])\n",
    "print(s[['a','d']])\n",
    "\n",
    "# (b) By Position\n",
    "print(s[0])\n",
    "print(s[[1,3]])"
   ]
  },
  {
   "cell_type": "markdown",
   "id": "0594fae5",
   "metadata": {},
   "source": [
    "### 🔹 4. Useful Attributes"
   ]
  },
  {
   "cell_type": "markdown",
   "id": "ee26bd1e",
   "metadata": {},
   "source": []
  },
  {
   "cell_type": "code",
   "execution_count": 38,
   "id": "6dd6ad2b",
   "metadata": {},
   "outputs": [
    {
     "name": "stdout",
     "output_type": "stream",
     "text": [
      "Index(['a', 'b', 'c', 'd'], dtype='object')\n",
      "[100 200 300 400]\n",
      "int64\n",
      "(4,)\n",
      "4\n"
     ]
    }
   ],
   "source": [
    "print(s.index) \n",
    "print(s.values)\n",
    "print(s.dtype)\n",
    "print(s.shape)\n",
    "print(s.size)"
   ]
  },
  {
   "cell_type": "markdown",
   "id": "df332297",
   "metadata": {},
   "source": [
    "### 🔹 5. Operations on Series"
   ]
  },
  {
   "cell_type": "code",
   "execution_count": 46,
   "id": "356a0499",
   "metadata": {},
   "outputs": [
    {
     "name": "stdout",
     "output_type": "stream",
     "text": [
      "a    100\n",
      "b    200\n",
      "c    300\n",
      "d    400\n",
      "dtype: int64\n",
      "a    110\n",
      "b    210\n",
      "c    310\n",
      "d    410\n",
      "dtype: int64\n",
      "a     90\n",
      "b    190\n",
      "c    290\n",
      "d    390\n",
      "dtype: int64\n",
      "a    1000\n",
      "b    2000\n",
      "c    3000\n",
      "d    4000\n",
      "dtype: int64\n",
      "a    10.0\n",
      "b    20.0\n",
      "c    30.0\n",
      "d    40.0\n",
      "dtype: float64\n",
      "a    10\n",
      "b    20\n",
      "c    30\n",
      "d    40\n",
      "dtype: int64\n",
      "a    0\n",
      "b    0\n",
      "c    0\n",
      "d    0\n",
      "dtype: int64\n"
     ]
    }
   ],
   "source": [
    "# (a) Vectorized Operations\n",
    "\n",
    "print(s)\n",
    "print(s+10)\n",
    "print(s-10)\n",
    "print(s*10)\n",
    "print(s/10)\n",
    "print(s//10)\n",
    "print(s% 10)\n"
   ]
  },
  {
   "cell_type": "code",
   "execution_count": 50,
   "id": "8b266b67",
   "metadata": {},
   "outputs": [
    {
     "name": "stdout",
     "output_type": "stream",
     "text": [
      "a    150\n",
      "b    260\n",
      "c    370\n",
      "d    480\n",
      "dtype: int64\n"
     ]
    }
   ],
   "source": [
    "# Element-wise with Another Series\n",
    "s2 = pd.Series([50, 60, 70, 80], index=['a','b','c','d'])\n",
    "print(s+s2)"
   ]
  },
  {
   "cell_type": "markdown",
   "id": "f50b6598",
   "metadata": {},
   "source": [
    "### 🔹 6. Filtering (Boolean Indexing)"
   ]
  },
  {
   "cell_type": "code",
   "execution_count": 51,
   "id": "31446f66",
   "metadata": {},
   "outputs": [
    {
     "name": "stdout",
     "output_type": "stream",
     "text": [
      "c    300\n",
      "d    400\n",
      "dtype: int64\n"
     ]
    }
   ],
   "source": [
    "print(s[s>200])"
   ]
  },
  {
   "cell_type": "markdown",
   "id": "59cbbea8",
   "metadata": {},
   "source": [
    "### 🔹 7. Common Methods"
   ]
  },
  {
   "cell_type": "code",
   "execution_count": 52,
   "id": "1b1ba001",
   "metadata": {},
   "outputs": [
    {
     "name": "stdout",
     "output_type": "stream",
     "text": [
      "a    100\n",
      "b    200\n",
      "c    300\n",
      "d    400\n",
      "dtype: int64\n"
     ]
    }
   ],
   "source": [
    "print(s)"
   ]
  },
  {
   "cell_type": "code",
   "execution_count": 7,
   "id": "0fc4bf80",
   "metadata": {},
   "outputs": [
    {
     "name": "stdout",
     "output_type": "stream",
     "text": [
      "a    100\n",
      "b    200\n",
      "dtype: int64\n",
      "c    300\n",
      "d    400\n",
      "dtype: int64\n",
      "1000\n",
      "250.0\n",
      "400\n",
      "100\n",
      "a    100\n",
      "b    200\n",
      "c    300\n",
      "d    400\n",
      "dtype: int64\n",
      "a    100\n",
      "b    200\n",
      "c    300\n",
      "d    400\n",
      "dtype: int64\n"
     ]
    }
   ],
   "source": [
    "print(s.head(2))   # First 2 values\n",
    "print(s.tail(2))   # Last 2 values\n",
    "print(s.sum())     # Sum of values\n",
    "print(s.mean())    # Average\n",
    "print(s.max())     # Max value\n",
    "print(s.min())     # Min value\n",
    "print(s.sort_values())   # Sort by values\n",
    "print(s.sort_index())    # Sort by index"
   ]
  },
  {
   "cell_type": "code",
   "execution_count": null,
   "id": "0cbaa352",
   "metadata": {},
   "outputs": [
    {
     "name": "stdout",
     "output_type": "stream",
     "text": [
      "c     100\n",
      "a     200\n",
      "d     400\n",
      "b    1000\n",
      "dtype: int64\n",
      "a     200\n",
      "b    1000\n",
      "c     100\n",
      "d     400\n",
      "dtype: int64\n"
     ]
    }
   ],
   "source": [
    "s4 = pd.Series([1000, 200, 100, 400], index=['b','a','c','d'])\n",
    "print(s4.sort_values())\n",
    "print(s4.sort_index())"
   ]
  },
  {
   "cell_type": "markdown",
   "id": "b879238b",
   "metadata": {},
   "source": [
    "### 🔹 8. Handling Missing Data"
   ]
  },
  {
   "cell_type": "code",
   "execution_count": 66,
   "id": "66dd8029",
   "metadata": {},
   "outputs": [
    {
     "name": "stdout",
     "output_type": "stream",
     "text": [
      "0    10.0\n",
      "1    20.0\n",
      "2     NaN\n",
      "3    40.0\n",
      "dtype: float64\n"
     ]
    }
   ],
   "source": [
    "s7 = pd.Series([10, 20, np.nan, 40])\n",
    "print(s7)"
   ]
  },
  {
   "cell_type": "code",
   "execution_count": 67,
   "id": "0120661c",
   "metadata": {},
   "outputs": [
    {
     "name": "stdout",
     "output_type": "stream",
     "text": [
      "0    False\n",
      "1    False\n",
      "2     True\n",
      "3    False\n",
      "dtype: bool\n"
     ]
    }
   ],
   "source": [
    "print(s7.isnull())"
   ]
  },
  {
   "cell_type": "code",
   "execution_count": 68,
   "id": "9486660e",
   "metadata": {},
   "outputs": [
    {
     "name": "stdout",
     "output_type": "stream",
     "text": [
      "0     True\n",
      "1     True\n",
      "2    False\n",
      "3     True\n",
      "dtype: bool\n"
     ]
    }
   ],
   "source": [
    "print(s7.notnull())"
   ]
  },
  {
   "cell_type": "code",
   "execution_count": 72,
   "id": "aa858e3e",
   "metadata": {},
   "outputs": [
    {
     "name": "stdout",
     "output_type": "stream",
     "text": [
      "0    10.0\n",
      "1    20.0\n",
      "2    30.0\n",
      "3    40.0\n",
      "dtype: float64\n",
      "0    10.0\n",
      "1    20.0\n",
      "2     NaN\n",
      "3    40.0\n",
      "dtype: float64\n"
     ]
    }
   ],
   "source": [
    "print(s7.fillna(30))\n",
    "print(s7)"
   ]
  },
  {
   "cell_type": "code",
   "execution_count": 74,
   "id": "93c909ab",
   "metadata": {},
   "outputs": [
    {
     "name": "stdout",
     "output_type": "stream",
     "text": [
      "0    10.0\n",
      "1    20.0\n",
      "3    40.0\n",
      "dtype: float64\n",
      "0    10.0\n",
      "1    20.0\n",
      "2     NaN\n",
      "3    40.0\n",
      "dtype: float64\n"
     ]
    }
   ],
   "source": [
    "print(s7.dropna())\n",
    "print(s7)"
   ]
  },
  {
   "cell_type": "code",
   "execution_count": null,
   "id": "02e2c144",
   "metadata": {},
   "outputs": [],
   "source": []
  },
  {
   "cell_type": "markdown",
   "id": "80c38244",
   "metadata": {},
   "source": []
  }
 ],
 "metadata": {
  "kernelspec": {
   "display_name": "Python 3 (ipykernel)",
   "language": "python",
   "name": "python3"
  },
  "language_info": {
   "codemirror_mode": {
    "name": "ipython",
    "version": 3
   },
   "file_extension": ".py",
   "mimetype": "text/x-python",
   "name": "python",
   "nbconvert_exporter": "python",
   "pygments_lexer": "ipython3",
   "version": "3.13.5"
  }
 },
 "nbformat": 4,
 "nbformat_minor": 5
}
