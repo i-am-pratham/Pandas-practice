{
 "cells": [
  {
   "cell_type": "markdown",
   "id": "4f5da751",
   "metadata": {},
   "source": [
    "# 🐼 Pandas Series Practice Notebook\n",
    "\n",
    "This notebook contains **step-by-step exercises** on Pandas Series.  \n",
    "Solve them in order (easy → advanced) to master the concept before moving to DataFrames 🚀.\n"
   ]
  },
  {
   "cell_type": "markdown",
   "id": "ff121cd4",
   "metadata": {},
   "source": [
    "### Exercise 1\n",
    "Create a Series of marks of 5 students with custom names as index."
   ]
  },
  {
   "cell_type": "code",
   "execution_count": null,
   "id": "ed102a23",
   "metadata": {},
   "outputs": [
    {
     "name": "stdout",
     "output_type": "stream",
     "text": [
      "Shreyas       60\n",
      "Rushikesh     70\n",
      "Yasraj        90\n",
      "Kaif          78\n",
      "Prathamesh    84\n",
      "dtype: int64\n"
     ]
    }
   ],
   "source": [
    "# Your solution here\n",
    "import pandas as pd\n",
    "import numpy as np\n",
    "\n",
    "Student=pd.Series([60,70,90,78,84], index=['Shreyas','Rushikesh','Yasraj','Kaif','Prathamesh'])\n",
    "print(Student)\n"
   ]
  },
  {
   "cell_type": "markdown",
   "id": "cd006dec",
   "metadata": {},
   "source": [
    "### Exercise 2\n",
    "Create a Series from a dictionary: {'Math': 90, 'Science': 80, 'English': 85}."
   ]
  },
  {
   "cell_type": "code",
   "execution_count": null,
   "id": "09b59cb5",
   "metadata": {},
   "outputs": [
    {
     "name": "stdout",
     "output_type": "stream",
     "text": [
      "Math       90\n",
      "Science    80\n",
      "English    85\n",
      "dtype: int64\n"
     ]
    }
   ],
   "source": [
    "# Your solution here\n",
    "Student1=pd.Series({'Math': 90, 'Science': 80, 'English': 85})\n",
    "print(Student1)\n",
    "\n"
   ]
  },
  {
   "cell_type": "markdown",
   "id": "4b4efd31",
   "metadata": {},
   "source": [
    "### Exercise 3\n",
    "Create a Series of 5 random integers using numpy.random.randint."
   ]
  },
  {
   "cell_type": "code",
   "execution_count": null,
   "id": "d27252ea",
   "metadata": {},
   "outputs": [
    {
     "name": "stdout",
     "output_type": "stream",
     "text": [
      "[7 2 3 9 2]\n",
      "0    7\n",
      "1    2\n",
      "2    3\n",
      "3    9\n",
      "4    2\n",
      "dtype: int32\n"
     ]
    }
   ],
   "source": [
    "# Your solution here\n",
    "arr= np.random.randint(1,11,size=5)\n",
    "print(arr)\n",
    "arr1=pd.Series(arr)\n",
    "print(arr1)\n"
   ]
  },
  {
   "cell_type": "markdown",
   "id": "8a4d5355",
   "metadata": {},
   "source": [
    "### Exercise 4\n",
    "Access 2nd and 4th student marks using both label and position."
   ]
  },
  {
   "cell_type": "code",
   "execution_count": null,
   "id": "8a915aff",
   "metadata": {},
   "outputs": [
    {
     "name": "stdout",
     "output_type": "stream",
     "text": [
      "Shreyas       60\n",
      "Rushikesh     70\n",
      "Yasraj        90\n",
      "Kaif          78\n",
      "Prathamesh    84\n",
      "dtype: int64\n",
      "2nd & 4th Students by label: \n",
      " Rushikesh    70\n",
      "Kaif         78\n",
      "dtype: int64\n",
      "---------------\n",
      "2nd & 4th Students by position: \n",
      " Rushikesh    70\n",
      "Kaif         78\n",
      "dtype: int64\n"
     ]
    },
    {
     "name": "stderr",
     "output_type": "stream",
     "text": [
      "C:\\Users\\Admin\\AppData\\Local\\Temp\\ipykernel_9560\\4140414196.py:5: FutureWarning: Series.__getitem__ treating keys as positions is deprecated. In a future version, integer keys will always be treated as labels (consistent with DataFrame behavior). To access a value by position, use `ser.iloc[pos]`\n",
      "  print(\"2nd & 4th Students by position: \\n\",Student[[1,3]])\n"
     ]
    }
   ],
   "source": [
    "# Your solution here\n",
    "print(Student)\n",
    "print(\"2nd & 4th Students by label: \\n\",Student[['Rushikesh','Kaif']])\n",
    "print(\"---------------\")\n",
    "print(\"2nd & 4th Students by position: \\n\",Student[[1,3]])\n",
    "\n",
    "\n"
   ]
  },
  {
   "cell_type": "markdown",
   "id": "dc3890a9",
   "metadata": {},
   "source": [
    "### Exercise 5\n",
    "Slice the first 3 elements of a Series."
   ]
  },
  {
   "cell_type": "code",
   "execution_count": null,
   "id": "1c7b1310",
   "metadata": {},
   "outputs": [
    {
     "name": "stdout",
     "output_type": "stream",
     "text": [
      "Shreyas       60\n",
      "Rushikesh     70\n",
      "Yasraj        90\n",
      "Kaif          78\n",
      "Prathamesh    84\n",
      "dtype: int64\n",
      "First 3 elemnts of a series are: \n",
      " Shreyas      60\n",
      "Rushikesh    70\n",
      "Yasraj       90\n",
      "dtype: int64\n"
     ]
    }
   ],
   "source": [
    "# Your solution here\n",
    "print(Student)\n",
    "print(\"First 3 elemnts of a series are: \\n\",Student[0:3] )"
   ]
  },
  {
   "cell_type": "markdown",
   "id": "f1dda725",
   "metadata": {},
   "source": [
    "### Exercise 6\n",
    "Create a Series of fruit prices (apple, banana, grapes, mango). Increase all prices by 10%."
   ]
  },
  {
   "cell_type": "code",
   "execution_count": null,
   "id": "2048c92d",
   "metadata": {},
   "outputs": [
    {
     "name": "stdout",
     "output_type": "stream",
     "text": [
      "apple     100\n",
      "banana     60\n",
      "grape      80\n",
      "mango     200\n",
      "dtype: int64\n",
      "Price after increasing by 10% \n",
      " apple     110.0\n",
      "banana     66.0\n",
      "grape      88.0\n",
      "mango     220.0\n",
      "dtype: float64\n"
     ]
    }
   ],
   "source": [
    "# Your solution here\n",
    "fruits=pd.Series({\"apple\":100,\"banana\":60,\"grape\":80,\"mango\":200})\n",
    "print(fruits)\n",
    "print(\"Price after increasing by 10% \\n\", fruits * 1.10)"
   ]
  },
  {
   "cell_type": "markdown",
   "id": "07523263",
   "metadata": {},
   "source": [
    "### Exercise 7\n",
    "Create a Series of numbers and add 5 to all elements."
   ]
  },
  {
   "cell_type": "code",
   "execution_count": null,
   "id": "ca30ab4f",
   "metadata": {},
   "outputs": [
    {
     "name": "stdout",
     "output_type": "stream",
     "text": [
      "0    20\n",
      "1    25\n",
      "2    30\n",
      "3    35\n",
      "4    40\n",
      "dtype: int64\n",
      "After adding 5 to allelements :\n",
      " 0    25\n",
      "1    30\n",
      "2    35\n",
      "3    40\n",
      "4    45\n",
      "dtype: int64\n"
     ]
    }
   ],
   "source": [
    "# Your solution here\n",
    "\n",
    "Num= pd.Series([20,25,30,35,40])\n",
    "print(Num)\n",
    "print(\"After adding 5 to allelements :\\n\",Num + 5)\n"
   ]
  },
  {
   "cell_type": "markdown",
   "id": "a03c30af",
   "metadata": {},
   "source": [
    "### Exercise 8\n",
    "Create another Series and perform addition with the first one."
   ]
  },
  {
   "cell_type": "code",
   "execution_count": null,
   "id": "12ea3a32",
   "metadata": {},
   "outputs": [
    {
     "name": "stdout",
     "output_type": "stream",
     "text": [
      "New array\n",
      " 0    10\n",
      "1    25\n",
      "2    40\n",
      "3    55\n",
      "4    43\n",
      "dtype: int64\n",
      "\n",
      "Previous array\n",
      " 0    20\n",
      "1    25\n",
      "2    30\n",
      "3    35\n",
      "4    40\n",
      "dtype: int64\n",
      "\n",
      "After performing addition in both series \n",
      " 0    30\n",
      "1    50\n",
      "2    70\n",
      "3    90\n",
      "4    83\n",
      "dtype: int64\n"
     ]
    }
   ],
   "source": [
    "# Your solution here\n",
    "Num2= pd.Series([10,25,40,55,43])\n",
    "print(\"New array\\n\",Num2)\n",
    "print(\"\\nPrevious array\\n\",Num)\n",
    "\n",
    "print(\"\\nAfter performing addition in both series \\n\", Num + Num2)\n",
    "\n"
   ]
  },
  {
   "cell_type": "markdown",
   "id": "12bce0db",
   "metadata": {},
   "source": [
    "### Exercise 9\n",
    "Filter values greater than the mean of the Series."
   ]
  },
  {
   "cell_type": "code",
   "execution_count": null,
   "id": "00e645a0",
   "metadata": {},
   "outputs": [
    {
     "name": "stdout",
     "output_type": "stream",
     "text": [
      "Shreyas       60\n",
      "Rushikesh     70\n",
      "Yasraj        90\n",
      "Kaif          78\n",
      "Prathamesh    84\n",
      "dtype: int64\n",
      "Mean: 76.4\n",
      "Values Greater than mean \n",
      " Yasraj        90\n",
      "Kaif          78\n",
      "Prathamesh    84\n",
      "dtype: int64\n"
     ]
    }
   ],
   "source": [
    "# Your solution here\n",
    "print(Student)\n",
    "print(\"Mean:\",Student.mean())\n",
    "GreaterThanMean= Student > Student.mean()\n",
    "print(\"Values Greater than mean \\n\",Student[GreaterThanMean])"
   ]
  },
  {
   "cell_type": "markdown",
   "id": "aed81ca9",
   "metadata": {},
   "source": [
    "### Exercise 10\n",
    "From a marks Series, find students who scored more than 75."
   ]
  },
  {
   "cell_type": "code",
   "execution_count": null,
   "id": "b0b0b174",
   "metadata": {},
   "outputs": [
    {
     "name": "stdout",
     "output_type": "stream",
     "text": [
      "Shreyas       60\n",
      "Rushikesh     70\n",
      "Yasraj        90\n",
      "Kaif          78\n",
      "Prathamesh    84\n",
      "dtype: int64\n",
      "Students who scored more than 75:\n",
      " Yasraj        90\n",
      "Kaif          78\n",
      "Prathamesh    84\n",
      "dtype: int64\n"
     ]
    }
   ],
   "source": [
    "# Your solution here\n",
    "print(Student)\n",
    "MoreThan75= Student> 75\n",
    "print('Students who scored more than 75:\\n',Student[MoreThan75])"
   ]
  },
  {
   "cell_type": "markdown",
   "id": "688d9a94",
   "metadata": {},
   "source": [
    "### Exercise 11\n",
    "Find sum, mean, min, max of a Series of numbers."
   ]
  },
  {
   "cell_type": "code",
   "execution_count": null,
   "id": "a848ac7a",
   "metadata": {},
   "outputs": [
    {
     "name": "stdout",
     "output_type": "stream",
     "text": [
      "Shreyas       60\n",
      "Rushikesh     70\n",
      "Yasraj        90\n",
      "Kaif          78\n",
      "Prathamesh    84\n",
      "dtype: int64\n",
      "Sum of total marks are: 382\n",
      "Mean of total marks are: 76.4\n",
      "Lowest marks are: 60\n",
      "Hightest marks are: 90\n"
     ]
    }
   ],
   "source": [
    "# Your solution here\n",
    "print(Student)\n",
    "print(\"Sum of total marks are:\",Student.sum())\n",
    "print(\"Mean of total marks are:\",Student.mean())\n",
    "print(\"Lowest marks are:\",Student.min())\n",
    "print(\"Hightest marks are:\",Student.max())"
   ]
  },
  {
   "cell_type": "markdown",
   "id": "bcd15f13",
   "metadata": {},
   "source": [
    "### Exercise 12\n",
    "Sort a Series by values and by index."
   ]
  },
  {
   "cell_type": "code",
   "execution_count": null,
   "id": "2e4377f7",
   "metadata": {},
   "outputs": [
    {
     "name": "stdout",
     "output_type": "stream",
     "text": [
      "Shreyas       60\n",
      "Rushikesh     70\n",
      "Yasraj        90\n",
      "Kaif          78\n",
      "Prathamesh    84\n",
      "dtype: int64\n",
      "Sort by values:\n",
      " Shreyas       60\n",
      "Rushikesh     70\n",
      "Kaif          78\n",
      "Prathamesh    84\n",
      "Yasraj        90\n",
      "dtype: int64\n",
      "Sort by index:\n",
      " Kaif          78\n",
      "Prathamesh    84\n",
      "Rushikesh     70\n",
      "Shreyas       60\n",
      "Yasraj        90\n",
      "dtype: int64\n"
     ]
    }
   ],
   "source": [
    "# Your solution here\n",
    "print(Student)\n",
    "print(\"Sort by values:\\n\",Student.sort_values())\n",
    "print(\"Sort by index:\\n\",Student.sort_index())"
   ]
  },
  {
   "cell_type": "markdown",
   "id": "135d07eb",
   "metadata": {},
   "source": [
    "### Exercise 13\n",
    "Create a Series with some NaN values. Fill missing values with the mean."
   ]
  },
  {
   "cell_type": "code",
   "execution_count": null,
   "id": "49ec022c",
   "metadata": {},
   "outputs": [
    {
     "name": "stdout",
     "output_type": "stream",
     "text": [
      "0    10.0\n",
      "1    20.0\n",
      "2     NaN\n",
      "3    40.0\n",
      "4     NaN\n",
      "5    60.0\n",
      "dtype: float64\n",
      "Mean is : 32.5\n",
      "Array after filling Nan values\n",
      " 0    10.0\n",
      "1    20.0\n",
      "2    32.5\n",
      "3    40.0\n",
      "4    32.5\n",
      "5    60.0\n",
      "dtype: float64\n"
     ]
    }
   ],
   "source": [
    "# Your solution here\n",
    "\n",
    "Nanarr=pd.Series([10,20,np.nan,40,np.nan,60])\n",
    "print(Nanarr)\n",
    "NanMean= Nanarr.mean()\n",
    "print(\"Mean is :\",NanMean)\n",
    "print(\"Array after filling Nan values\\n\",Nanarr.fillna(NanMean))\n"
   ]
  },
  {
   "cell_type": "markdown",
   "id": "76a1efc2",
   "metadata": {},
   "source": [
    "### Exercise 14\n",
    "Drop NaN values from the Series."
   ]
  },
  {
   "cell_type": "code",
   "execution_count": null,
   "id": "225f3e46",
   "metadata": {},
   "outputs": [
    {
     "name": "stdout",
     "output_type": "stream",
     "text": [
      "0    10.0\n",
      "1    20.0\n",
      "2     NaN\n",
      "3    40.0\n",
      "4     NaN\n",
      "5    60.0\n",
      "dtype: float64\n",
      "After droping NaN values :\n",
      " 0    10.0\n",
      "1    20.0\n",
      "3    40.0\n",
      "5    60.0\n",
      "dtype: float64\n"
     ]
    }
   ],
   "source": [
    "# Your solution here\n",
    "print(Nanarr)\n",
    "print(\"After droping NaN values :\\n\",Nanarr.dropna())"
   ]
  },
  {
   "cell_type": "markdown",
   "id": "7289450f",
   "metadata": {},
   "source": [
    "### Exercise 15\n",
    "Create a Series of daily temperatures for 7 days. Find the hottest and coldest day."
   ]
  },
  {
   "cell_type": "code",
   "execution_count": null,
   "id": "3e6d6cd3",
   "metadata": {},
   "outputs": [
    {
     "name": "stdout",
     "output_type": "stream",
     "text": [
      "Monday       24\n",
      "Tuesday      21\n",
      "Wednesday    36\n",
      "Thursday     30\n",
      "Friday       19\n",
      "Saturday     15\n",
      "Sunday       40\n",
      "dtype: int64\n",
      "\n",
      " Hottest Day was: Sunday\n",
      "Coldest Day was: Saturday\n"
     ]
    }
   ],
   "source": [
    "# Your solution here\n",
    "Temperature= pd.Series({'Monday':24, 'Tuesday':21,'Wednesday':36,'Thursday':30, 'Friday':19, 'Saturday':15, 'Sunday':40})\n",
    "print(Temperature)\n",
    "\n",
    "print('\\n Hottest Day was:',Temperature.idxmax())\n",
    "print('Coldest Day was:',Temperature.idxmin())\n",
    "\n",
    "\n",
    "\n"
   ]
  },
  {
   "cell_type": "markdown",
   "id": "6c842f70",
   "metadata": {},
   "source": [
    "### Exercise 16\n",
    "Create two Series: sales in January and sales in February for 4 shops. Add them together to find total sales."
   ]
  },
  {
   "cell_type": "code",
   "execution_count": null,
   "id": "c3680b8e",
   "metadata": {},
   "outputs": [
    {
     "name": "stdout",
     "output_type": "stream",
     "text": [
      "Shop1    20000\n",
      "Shop2    30000\n",
      "Shop3    10500\n",
      "Shop4    15000\n",
      "dtype: int64\n",
      "Shop1    18000\n",
      "Shop2    25000\n",
      "Shop3    13500\n",
      "Shop4    35000\n",
      "dtype: int64\n",
      "Total Sales of both Jan and Feb :\n",
      " Shop1    38000\n",
      "Shop2    55000\n",
      "Shop3    24000\n",
      "Shop4    50000\n",
      "dtype: int64\n"
     ]
    }
   ],
   "source": [
    "# Your solution here\n",
    "JanSale=pd.Series([20000,30000,10500,15000],index=['Shop1','Shop2','Shop3','Shop4'])\n",
    "print(JanSale)\n",
    "\n",
    "FebSale=pd.Series([18000,25000,13500,35000],index=['Shop1','Shop2','Shop3','Shop4'])\n",
    "print(FebSale)\n",
    "\n",
    "print(\"Total Sales of both Jan and Feb :\\n\", JanSale + FebSale)"
   ]
  },
  {
   "cell_type": "markdown",
   "id": "a190b3a9",
   "metadata": {},
   "source": [
    "### Exercise 17\n",
    "Create a Series of exam marks for 5 students. Normalize marks (scale between 0 and 1)."
   ]
  },
  {
   "cell_type": "code",
   "execution_count": null,
   "id": "6e9f543e",
   "metadata": {},
   "outputs": [
    {
     "name": "stdout",
     "output_type": "stream",
     "text": [
      "Original Marks:\n",
      " Student1     70\n",
      "Student2     50\n",
      "Student3     90\n",
      "Student4     30\n",
      "Student5    100\n",
      "dtype: int64\n",
      "\n",
      "Normalized Marks (0–1):\n",
      " Student1    0.571429\n",
      "Student2    0.285714\n",
      "Student3    0.857143\n",
      "Student4    0.000000\n",
      "Student5    1.000000\n",
      "dtype: float64\n"
     ]
    }
   ],
   "source": [
    "# Your solution here\n",
    "marks = pd.Series({\n",
    "    'Student1': 70,\n",
    "    'Student2': 50,\n",
    "    'Student3': 90,\n",
    "    'Student4': 30,\n",
    "    'Student5': 100\n",
    "})\n",
    "\n",
    "print(\"Original Marks:\\n\", marks)\n",
    "\n",
    "# Normalize (0–1 scaling)\n",
    "normalized = (marks - marks.min()) / (marks.max() - marks.min())\n",
    "\n",
    "print(\"\\nNormalized Marks (0–1):\\n\", normalized)\n"
   ]
  },
  {
   "cell_type": "code",
   "execution_count": null,
   "id": "0a205508",
   "metadata": {},
   "outputs": [],
   "source": []
  }
 ],
 "metadata": {
  "kernelspec": {
   "display_name": "base",
   "language": "python",
   "name": "python3"
  },
  "language_info": {
   "codemirror_mode": {
    "name": "ipython",
    "version": 3
   },
   "file_extension": ".py",
   "mimetype": "text/x-python",
   "name": "python",
   "nbconvert_exporter": "python",
   "pygments_lexer": "ipython3",
   "version": "3.13.5"
  }
 },
 "nbformat": 4,
 "nbformat_minor": 5
}
