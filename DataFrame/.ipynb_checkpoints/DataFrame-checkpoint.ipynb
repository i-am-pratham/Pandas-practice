{
 "cells": [
  {
   "cell_type": "markdown",
   "id": "bffad399",
   "metadata": {},
   "source": [
    "# 🐼 Pandas DataFrame Notes with Examples"
   ]
  },
  {
   "cell_type": "code",
   "execution_count": null,
   "id": "ee6e5499",
   "metadata": {},
   "outputs": [],
   "source": []
  },
  {
   "cell_type": "code",
   "execution_count": null,
   "id": "5d185f9e",
   "metadata": {},
   "outputs": [],
   "source": []
  },
  {
   "cell_type": "markdown",
   "id": "68fe6682",
   "metadata": {},
   "source": [
    "### 1️⃣ What is a DataFrame?\n",
    "A **DataFrame** is a **2D tabular data structure** (like an Excel sheet or SQL table).\n",
    "\n",
    "It consists of **rows and columns.**\n",
    "\n",
    "Each column is a **Series.**"
   ]
  },
  {
   "cell_type": "markdown",
   "id": "ecfc769e",
   "metadata": {},
   "source": [
    "### 2️⃣ Creating DataFrames\n",
    "#### From a Dictionary"
   ]
  },
  {
   "cell_type": "code",
   "execution_count": null,
   "id": "ea03eed2",
   "metadata": {},
   "outputs": [
    {
     "name": "stdout",
     "output_type": "stream",
     "text": [
      "        Name  Age  Salary\n",
      "0  Pratamesh   20   50000\n",
      "1    Yashraj   25   35000\n",
      "2    Shreyas   30   15000\n",
      "3       Kaif   23   30000\n",
      "4      Rushi   40   40000\n"
     ]
    }
   ],
   "source": [
    "import numpy as np\n",
    "import pandas as pd\n",
    "\n",
    "data= {\n",
    "    \n",
    "    \"Name\":[\"Pratamesh\",\"Yashraj\",\"Shreyas\",\"Kaif\",\"Rushi\"],\n",
    "    \"Age\":[20,25,30,23,40],\n",
    "    \"Salary\":[50000,35000,15000,30000,40000]\n",
    "}\n",
    "df=pd.DataFrame(data)\n",
    "print(df)"
   ]
  },
  {
   "cell_type": "markdown",
   "id": "baf9b31d",
   "metadata": {},
   "source": [
    "#### From a List of Dictionaries"
   ]
  },
  {
   "cell_type": "code",
   "execution_count": null,
   "id": "7d05b2c7",
   "metadata": {},
   "outputs": [
    {
     "name": "stdout",
     "output_type": "stream",
     "text": [
      "      Name  Age  Salary\n",
      "0  Pratham   22   60000\n",
      "1     Yash   23   50000\n",
      "2    Rushi   24   40000\n",
      "3  Shreyas   25   30000\n"
     ]
    }
   ],
   "source": [
    "data2=[\n",
    "    \n",
    "    {\"Name\":\"Pratham\",\"Age\":22,\"Salary\":60000},\n",
    "    {\"Name\":\"Yash\",\"Age\":23,\"Salary\":50000},\n",
    "    {\"Name\":\"Rushi\",\"Age\":24,\"Salary\":40000},\n",
    "    {\"Name\":\"Shreyas\",\"Age\":25,\"Salary\":30000}\n",
    "    \n",
    "]\n",
    "df2=pd.DataFrame(data2)\n",
    "print(df2)"
   ]
  },
  {
   "cell_type": "markdown",
   "id": "250e0713",
   "metadata": {},
   "source": [
    "#### From a List of Lists"
   ]
  },
  {
   "cell_type": "code",
   "execution_count": null,
   "id": "404b6e6c",
   "metadata": {},
   "outputs": [
    {
     "name": "stdout",
     "output_type": "stream",
     "text": [
      "   Name  Age  Marks\n",
      "0  Amit   21     90\n",
      "1  Amit   21     90\n",
      "2  Amit   21     90\n"
     ]
    }
   ],
   "source": [
    "data3=[\n",
    "    [\"Amit\",21,90],\n",
    "    [\"Amit\",21,90],\n",
    "    [\"Amit\",21,90]\n",
    "]\n",
    "df3=pd.DataFrame(data3,columns=[\"Name\",\"Age\",\"Marks\"])\n",
    "print(df3)"
   ]
  },
  {
   "cell_type": "markdown",
   "id": "20951237",
   "metadata": {},
   "source": [
    "#### From NumPy Array"
   ]
  },
  {
   "cell_type": "code",
   "execution_count": null,
   "id": "e958d90e",
   "metadata": {},
   "outputs": [
    {
     "name": "stdout",
     "output_type": "stream",
     "text": [
      "   A  B  C\n",
      "0  1  2  3\n",
      "1  4  5  6\n",
      "2  7  8  9\n"
     ]
    }
   ],
   "source": [
    "arr = np.array([[1,2,3],[4,5,6],[7,8,9]])\n",
    "df4=pd.DataFrame(arr,columns=[\"A\",\"B\",\"C\"])\n",
    "print(df4)"
   ]
  },
  {
   "cell_type": "markdown",
   "id": "81653f67",
   "metadata": {},
   "source": [
    "### 2️⃣ Selection & Indexing of column\n"
   ]
  },
  {
   "cell_type": "code",
   "execution_count": null,
   "id": "0242bf90",
   "metadata": {},
   "outputs": [
    {
     "name": "stdout",
     "output_type": "stream",
     "text": [
      "        Name  Age  Salary    City\n",
      "0  Pratamesh   20   50000    Pune\n",
      "1    Yashraj   25   35000  Nagpur\n",
      "2    Shreyas   30   15000  Mumbai\n",
      "3       Kaif   23   30000  Mumbai\n",
      "4      Rushi   40   40000  Jaipur\n",
      "\n",
      " 0    Pratamesh\n",
      "1      Yashraj\n",
      "2      Shreyas\n",
      "3         Kaif\n",
      "4        Rushi\n",
      "Name: Name, dtype: object\n",
      "\n",
      "    Age    City\n",
      "0   20    Pune\n",
      "1   25  Nagpur\n",
      "2   30  Mumbai\n",
      "3   23  Mumbai\n",
      "4   40  Jaipur\n"
     ]
    }
   ],
   "source": [
    "\n",
    "data4= {\n",
    "    \n",
    "    \"Name\":[\"Pratamesh\",\"Yashraj\",\"Shreyas\",\"Kaif\",\"Rushi\"],\n",
    "    \"Age\":[20,25,30,23,40],\n",
    "    \"Salary\":[50000,35000,15000,30000,40000],\n",
    "    \"City\":[\"Pune\",\"Nagpur\",\"Mumbai\",\"Mumbai\",\"Jaipur\"]\n",
    "}\n",
    "df5=pd.DataFrame(data4)\n",
    "print(df5)\n",
    "\n",
    "print('\\n',df5[\"Name\"])\n",
    "\n",
    "print('\\n',df5[[\"Age\",\"City\"]])\n",
    "\n"
   ]
  },
  {
   "cell_type": "markdown",
   "id": "9ca58f7a",
   "metadata": {},
   "source": [
    "### 3️⃣ Creating a new column\n"
   ]
  },
  {
   "cell_type": "code",
   "execution_count": null,
   "id": "cf0e6278",
   "metadata": {},
   "outputs": [
    {
     "data": {
      "text/html": [
       "<div>\n",
       "<style scoped>\n",
       "    .dataframe tbody tr th:only-of-type {\n",
       "        vertical-align: middle;\n",
       "    }\n",
       "\n",
       "    .dataframe tbody tr th {\n",
       "        vertical-align: top;\n",
       "    }\n",
       "\n",
       "    .dataframe thead th {\n",
       "        text-align: right;\n",
       "    }\n",
       "</style>\n",
       "<table border=\"1\" class=\"dataframe\">\n",
       "  <thead>\n",
       "    <tr style=\"text-align: right;\">\n",
       "      <th></th>\n",
       "      <th>Name</th>\n",
       "      <th>Age</th>\n",
       "      <th>Salary</th>\n",
       "      <th>City</th>\n",
       "    </tr>\n",
       "  </thead>\n",
       "  <tbody>\n",
       "    <tr>\n",
       "      <th>0</th>\n",
       "      <td>Pratamesh</td>\n",
       "      <td>20</td>\n",
       "      <td>50000</td>\n",
       "      <td>Pune</td>\n",
       "    </tr>\n",
       "    <tr>\n",
       "      <th>1</th>\n",
       "      <td>Yashraj</td>\n",
       "      <td>25</td>\n",
       "      <td>35000</td>\n",
       "      <td>Nagpur</td>\n",
       "    </tr>\n",
       "    <tr>\n",
       "      <th>2</th>\n",
       "      <td>Shreyas</td>\n",
       "      <td>30</td>\n",
       "      <td>15000</td>\n",
       "      <td>Mumbai</td>\n",
       "    </tr>\n",
       "    <tr>\n",
       "      <th>3</th>\n",
       "      <td>Kaif</td>\n",
       "      <td>23</td>\n",
       "      <td>30000</td>\n",
       "      <td>Mumbai</td>\n",
       "    </tr>\n",
       "    <tr>\n",
       "      <th>4</th>\n",
       "      <td>Rushi</td>\n",
       "      <td>40</td>\n",
       "      <td>40000</td>\n",
       "      <td>Jaipur</td>\n",
       "    </tr>\n",
       "  </tbody>\n",
       "</table>\n",
       "</div>"
      ],
      "text/plain": [
       "        Name  Age  Salary    City\n",
       "0  Pratamesh   20   50000    Pune\n",
       "1    Yashraj   25   35000  Nagpur\n",
       "2    Shreyas   30   15000  Mumbai\n",
       "3       Kaif   23   30000  Mumbai\n",
       "4      Rushi   40   40000  Jaipur"
      ]
     },
     "execution_count": 22,
     "metadata": {},
     "output_type": "execute_result"
    }
   ],
   "source": [
    "df5"
   ]
  },
  {
   "cell_type": "code",
   "execution_count": null,
   "id": "ce37e1b4",
   "metadata": {},
   "outputs": [
    {
     "name": "stdout",
     "output_type": "stream",
     "text": [
      "        Name  Age  Salary    City          Designation\n",
      "0  Pratamesh   20   50000    Pune       Data Scientist\n",
      "1    Yashraj   25   35000  Nagpur         Sr Developer\n",
      "2    Shreyas   30   15000  Mumbai         Jr Developer\n",
      "3       Kaif   23   30000  Mumbai               Tester\n",
      "4      Rushi   40   40000  Jaipur  Cloud Administrator\n",
      "        Name  Age  Salary    City          Designation  Salary+1000\n",
      "0  Pratamesh   20   50000    Pune       Data Scientist        51000\n",
      "1    Yashraj   25   35000  Nagpur         Sr Developer        36000\n",
      "2    Shreyas   30   15000  Mumbai         Jr Developer        16000\n",
      "3       Kaif   23   30000  Mumbai               Tester        31000\n",
      "4      Rushi   40   40000  Jaipur  Cloud Administrator        41000\n"
     ]
    }
   ],
   "source": [
    "# Creating Column, its new column\n",
    "df5[\"Designation\"]=[\"Data Scientist\",\"Sr Developer\",\"Jr Developer\",\"Tester\",\"Cloud Administrator\"]\n",
    "print(df5)\n",
    "\n",
    "# Its a derived column from Salary\n",
    "df5[\"Salary+1000\"]= df5[\"Salary\"] + 1000\n",
    "print(df5)"
   ]
  },
  {
   "cell_type": "markdown",
   "id": "54f6cb6f",
   "metadata": {},
   "source": [
    "### 4️⃣ Removing Column"
   ]
  },
  {
   "cell_type": "code",
   "execution_count": null,
   "id": "f9b4d76d",
   "metadata": {},
   "outputs": [
    {
     "data": {
      "text/html": [
       "<div>\n",
       "<style scoped>\n",
       "    .dataframe tbody tr th:only-of-type {\n",
       "        vertical-align: middle;\n",
       "    }\n",
       "\n",
       "    .dataframe tbody tr th {\n",
       "        vertical-align: top;\n",
       "    }\n",
       "\n",
       "    .dataframe thead th {\n",
       "        text-align: right;\n",
       "    }\n",
       "</style>\n",
       "<table border=\"1\" class=\"dataframe\">\n",
       "  <thead>\n",
       "    <tr style=\"text-align: right;\">\n",
       "      <th></th>\n",
       "      <th>Name</th>\n",
       "      <th>Age</th>\n",
       "      <th>Salary</th>\n",
       "      <th>City</th>\n",
       "      <th>Designation</th>\n",
       "      <th>Salary+1000</th>\n",
       "    </tr>\n",
       "  </thead>\n",
       "  <tbody>\n",
       "    <tr>\n",
       "      <th>0</th>\n",
       "      <td>Pratamesh</td>\n",
       "      <td>20</td>\n",
       "      <td>50000</td>\n",
       "      <td>Pune</td>\n",
       "      <td>Data Scientist</td>\n",
       "      <td>51000</td>\n",
       "    </tr>\n",
       "    <tr>\n",
       "      <th>1</th>\n",
       "      <td>Yashraj</td>\n",
       "      <td>25</td>\n",
       "      <td>35000</td>\n",
       "      <td>Nagpur</td>\n",
       "      <td>Sr Developer</td>\n",
       "      <td>36000</td>\n",
       "    </tr>\n",
       "    <tr>\n",
       "      <th>2</th>\n",
       "      <td>Shreyas</td>\n",
       "      <td>30</td>\n",
       "      <td>15000</td>\n",
       "      <td>Mumbai</td>\n",
       "      <td>Jr Developer</td>\n",
       "      <td>16000</td>\n",
       "    </tr>\n",
       "    <tr>\n",
       "      <th>3</th>\n",
       "      <td>Kaif</td>\n",
       "      <td>23</td>\n",
       "      <td>30000</td>\n",
       "      <td>Mumbai</td>\n",
       "      <td>Tester</td>\n",
       "      <td>31000</td>\n",
       "    </tr>\n",
       "    <tr>\n",
       "      <th>4</th>\n",
       "      <td>Rushi</td>\n",
       "      <td>40</td>\n",
       "      <td>40000</td>\n",
       "      <td>Jaipur</td>\n",
       "      <td>Cloud Administrator</td>\n",
       "      <td>41000</td>\n",
       "    </tr>\n",
       "  </tbody>\n",
       "</table>\n",
       "</div>"
      ],
      "text/plain": [
       "        Name  Age  Salary    City          Designation  Salary+1000\n",
       "0  Pratamesh   20   50000    Pune       Data Scientist        51000\n",
       "1    Yashraj   25   35000  Nagpur         Sr Developer        36000\n",
       "2    Shreyas   30   15000  Mumbai         Jr Developer        16000\n",
       "3       Kaif   23   30000  Mumbai               Tester        31000\n",
       "4      Rushi   40   40000  Jaipur  Cloud Administrator        41000"
      ]
     },
     "execution_count": 28,
     "metadata": {},
     "output_type": "execute_result"
    }
   ],
   "source": [
    "df5\n"
   ]
  },
  {
   "cell_type": "code",
   "execution_count": null,
   "id": "1f47465f",
   "metadata": {},
   "outputs": [
    {
     "name": "stdout",
     "output_type": "stream",
     "text": [
      "        Name  Age  Salary    City          Designation  Salary+1000\n",
      "0  Pratamesh   20   50000    Pune       Data Scientist        51000\n",
      "1    Yashraj   25   35000  Nagpur         Sr Developer        36000\n",
      "2    Shreyas   30   15000  Mumbai         Jr Developer        16000\n",
      "3       Kaif   23   30000  Mumbai               Tester        31000\n",
      "4      Rushi   40   40000  Jaipur  Cloud Administrator        41000\n",
      "        Name  Age  Salary    City          Designation\n",
      "0  Pratamesh   20   50000    Pune       Data Scientist\n",
      "1    Yashraj   25   35000  Nagpur         Sr Developer\n",
      "2    Shreyas   30   15000  Mumbai         Jr Developer\n",
      "3       Kaif   23   30000  Mumbai               Tester\n",
      "4      Rushi   40   40000  Jaipur  Cloud Administrator\n"
     ]
    }
   ],
   "source": [
    "# With drop we can delete rows or column.\n",
    "# axis=1 ----> for column\n",
    "# axis=0 -----> for row\n",
    "print(df5)\n",
    "\n",
    "df5.drop('Salary+1000',axis=1, inplace=True)  \n",
    "# Use \"inplace\" for permannantly delete. If we dont use \"inplace\" it will\n",
    "# be drop and will show deleted copy but will not be permanantly deleted from memoru\n",
    "print(df5)\n"
   ]
  },
  {
   "cell_type": "code",
   "execution_count": null,
   "id": "7c060b73",
   "metadata": {},
   "outputs": [
    {
     "data": {
      "text/html": [
       "<div>\n",
       "<style scoped>\n",
       "    .dataframe tbody tr th:only-of-type {\n",
       "        vertical-align: middle;\n",
       "    }\n",
       "\n",
       "    .dataframe tbody tr th {\n",
       "        vertical-align: top;\n",
       "    }\n",
       "\n",
       "    .dataframe thead th {\n",
       "        text-align: right;\n",
       "    }\n",
       "</style>\n",
       "<table border=\"1\" class=\"dataframe\">\n",
       "  <thead>\n",
       "    <tr style=\"text-align: right;\">\n",
       "      <th></th>\n",
       "      <th>Name</th>\n",
       "      <th>Age</th>\n",
       "      <th>Salary</th>\n",
       "      <th>City</th>\n",
       "      <th>Designation</th>\n",
       "    </tr>\n",
       "  </thead>\n",
       "  <tbody>\n",
       "    <tr>\n",
       "      <th>0</th>\n",
       "      <td>Pratamesh</td>\n",
       "      <td>20</td>\n",
       "      <td>50000</td>\n",
       "      <td>Pune</td>\n",
       "      <td>Data Scientist</td>\n",
       "    </tr>\n",
       "    <tr>\n",
       "      <th>1</th>\n",
       "      <td>Yashraj</td>\n",
       "      <td>25</td>\n",
       "      <td>35000</td>\n",
       "      <td>Nagpur</td>\n",
       "      <td>Sr Developer</td>\n",
       "    </tr>\n",
       "    <tr>\n",
       "      <th>2</th>\n",
       "      <td>Shreyas</td>\n",
       "      <td>30</td>\n",
       "      <td>15000</td>\n",
       "      <td>Mumbai</td>\n",
       "      <td>Jr Developer</td>\n",
       "    </tr>\n",
       "    <tr>\n",
       "      <th>3</th>\n",
       "      <td>Kaif</td>\n",
       "      <td>23</td>\n",
       "      <td>30000</td>\n",
       "      <td>Mumbai</td>\n",
       "      <td>Tester</td>\n",
       "    </tr>\n",
       "    <tr>\n",
       "      <th>4</th>\n",
       "      <td>Rushi</td>\n",
       "      <td>40</td>\n",
       "      <td>40000</td>\n",
       "      <td>Jaipur</td>\n",
       "      <td>Cloud Administrator</td>\n",
       "    </tr>\n",
       "  </tbody>\n",
       "</table>\n",
       "</div>"
      ],
      "text/plain": [
       "        Name  Age  Salary    City          Designation\n",
       "0  Pratamesh   20   50000    Pune       Data Scientist\n",
       "1    Yashraj   25   35000  Nagpur         Sr Developer\n",
       "2    Shreyas   30   15000  Mumbai         Jr Developer\n",
       "3       Kaif   23   30000  Mumbai               Tester\n",
       "4      Rushi   40   40000  Jaipur  Cloud Administrator"
      ]
     },
     "execution_count": 36,
     "metadata": {},
     "output_type": "execute_result"
    }
   ],
   "source": [
    "df5"
   ]
  },
  {
   "cell_type": "markdown",
   "id": "805c4dc5",
   "metadata": {},
   "source": [
    "### For removing row\n"
   ]
  },
  {
   "cell_type": "code",
   "execution_count": null,
   "id": "03d9a234",
   "metadata": {},
   "outputs": [
    {
     "data": {
      "text/html": [
       "<div>\n",
       "<style scoped>\n",
       "    .dataframe tbody tr th:only-of-type {\n",
       "        vertical-align: middle;\n",
       "    }\n",
       "\n",
       "    .dataframe tbody tr th {\n",
       "        vertical-align: top;\n",
       "    }\n",
       "\n",
       "    .dataframe thead th {\n",
       "        text-align: right;\n",
       "    }\n",
       "</style>\n",
       "<table border=\"1\" class=\"dataframe\">\n",
       "  <thead>\n",
       "    <tr style=\"text-align: right;\">\n",
       "      <th></th>\n",
       "      <th>Name</th>\n",
       "      <th>Age</th>\n",
       "      <th>Salary</th>\n",
       "      <th>City</th>\n",
       "      <th>Designation</th>\n",
       "    </tr>\n",
       "  </thead>\n",
       "  <tbody>\n",
       "    <tr>\n",
       "      <th>0</th>\n",
       "      <td>Pratamesh</td>\n",
       "      <td>20</td>\n",
       "      <td>50000</td>\n",
       "      <td>Pune</td>\n",
       "      <td>Data Scientist</td>\n",
       "    </tr>\n",
       "    <tr>\n",
       "      <th>1</th>\n",
       "      <td>Yashraj</td>\n",
       "      <td>25</td>\n",
       "      <td>35000</td>\n",
       "      <td>Nagpur</td>\n",
       "      <td>Sr Developer</td>\n",
       "    </tr>\n",
       "    <tr>\n",
       "      <th>2</th>\n",
       "      <td>Shreyas</td>\n",
       "      <td>30</td>\n",
       "      <td>15000</td>\n",
       "      <td>Mumbai</td>\n",
       "      <td>Jr Developer</td>\n",
       "    </tr>\n",
       "    <tr>\n",
       "      <th>3</th>\n",
       "      <td>Kaif</td>\n",
       "      <td>23</td>\n",
       "      <td>30000</td>\n",
       "      <td>Mumbai</td>\n",
       "      <td>Tester</td>\n",
       "    </tr>\n",
       "    <tr>\n",
       "      <th>4</th>\n",
       "      <td>Rushi</td>\n",
       "      <td>40</td>\n",
       "      <td>40000</td>\n",
       "      <td>Jaipur</td>\n",
       "      <td>Cloud Administrator</td>\n",
       "    </tr>\n",
       "  </tbody>\n",
       "</table>\n",
       "</div>"
      ],
      "text/plain": [
       "        Name  Age  Salary    City          Designation\n",
       "0  Pratamesh   20   50000    Pune       Data Scientist\n",
       "1    Yashraj   25   35000  Nagpur         Sr Developer\n",
       "2    Shreyas   30   15000  Mumbai         Jr Developer\n",
       "3       Kaif   23   30000  Mumbai               Tester\n",
       "4      Rushi   40   40000  Jaipur  Cloud Administrator"
      ]
     },
     "execution_count": 40,
     "metadata": {},
     "output_type": "execute_result"
    }
   ],
   "source": [
    "df5"
   ]
  },
  {
   "cell_type": "code",
   "execution_count": null,
   "id": "4d5559ce",
   "metadata": {},
   "outputs": [
    {
     "data": {
      "text/html": [
       "<div>\n",
       "<style scoped>\n",
       "    .dataframe tbody tr th:only-of-type {\n",
       "        vertical-align: middle;\n",
       "    }\n",
       "\n",
       "    .dataframe tbody tr th {\n",
       "        vertical-align: top;\n",
       "    }\n",
       "\n",
       "    .dataframe thead th {\n",
       "        text-align: right;\n",
       "    }\n",
       "</style>\n",
       "<table border=\"1\" class=\"dataframe\">\n",
       "  <thead>\n",
       "    <tr style=\"text-align: right;\">\n",
       "      <th></th>\n",
       "      <th>Name</th>\n",
       "      <th>Age</th>\n",
       "      <th>Salary</th>\n",
       "      <th>City</th>\n",
       "      <th>Designation</th>\n",
       "    </tr>\n",
       "  </thead>\n",
       "  <tbody>\n",
       "    <tr>\n",
       "      <th>0</th>\n",
       "      <td>Pratamesh</td>\n",
       "      <td>20</td>\n",
       "      <td>50000</td>\n",
       "      <td>Pune</td>\n",
       "      <td>Data Scientist</td>\n",
       "    </tr>\n",
       "    <tr>\n",
       "      <th>1</th>\n",
       "      <td>Yashraj</td>\n",
       "      <td>25</td>\n",
       "      <td>35000</td>\n",
       "      <td>Nagpur</td>\n",
       "      <td>Sr Developer</td>\n",
       "    </tr>\n",
       "    <tr>\n",
       "      <th>3</th>\n",
       "      <td>Kaif</td>\n",
       "      <td>23</td>\n",
       "      <td>30000</td>\n",
       "      <td>Mumbai</td>\n",
       "      <td>Tester</td>\n",
       "    </tr>\n",
       "    <tr>\n",
       "      <th>4</th>\n",
       "      <td>Rushi</td>\n",
       "      <td>40</td>\n",
       "      <td>40000</td>\n",
       "      <td>Jaipur</td>\n",
       "      <td>Cloud Administrator</td>\n",
       "    </tr>\n",
       "  </tbody>\n",
       "</table>\n",
       "</div>"
      ],
      "text/plain": [
       "        Name  Age  Salary    City          Designation\n",
       "0  Pratamesh   20   50000    Pune       Data Scientist\n",
       "1    Yashraj   25   35000  Nagpur         Sr Developer\n",
       "3       Kaif   23   30000  Mumbai               Tester\n",
       "4      Rushi   40   40000  Jaipur  Cloud Administrator"
      ]
     },
     "execution_count": 42,
     "metadata": {},
     "output_type": "execute_result"
    }
   ],
   "source": [
    "df5.drop(2,axis=0)\n",
    "# Its not permanantly deleted because we dont use \"inplace\" so if we again print the the \"df5\" we will see the deleted row."
   ]
  },
  {
   "cell_type": "markdown",
   "id": "6b1fff1f",
   "metadata": {},
   "source": []
  }
 ],
 "metadata": {
  "kernelspec": {
   "display_name": "base",
   "language": "python",
   "name": "python3"
  },
  "language_info": {
   "codemirror_mode": {
    "name": "ipython",
    "version": 3
   },
   "file_extension": ".py",
   "mimetype": "text/x-python",
   "name": "python",
   "nbconvert_exporter": "python",
   "pygments_lexer": "ipython3",
   "version": "3.13.5"
  }
 },
 "nbformat": 4,
 "nbformat_minor": 5
}
